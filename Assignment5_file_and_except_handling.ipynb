{
  "nbformat": 4,
  "nbformat_minor": 0,
  "metadata": {
    "colab": {
      "provenance": []
    },
    "kernelspec": {
      "name": "python3",
      "display_name": "Python 3"
    },
    "language_info": {
      "name": "python"
    }
  },
  "cells": [
    {
      "cell_type": "markdown",
      "source": [
        "# 1.  What is the difference between interpreted and compiled languages?\n",
        "\n",
        "  * Compiled Languages : The entire source code is translated into machine code by a compiler before execution. Produces a standalone executable file. Usually faster, because the code is already translated. Errors are caught during the compilation phase.\n",
        "\n",
        "        Examples: C, C++\n",
        "  * Interpreted Languages : The source code is executed line-by-line by an interpreter at runtime. No separate executable is produced. Typically slower, due to on-the-fly interpretation. Errors appear at runtime.      \n",
        "\n",
        "        Examples: Python, JavaScript, Ruby\n",
        "\n",
        "# 2. What is exception handling in Python?\n",
        "\n",
        "  * Exception handling in Python is a way to gracefully manage errors that occur during program execution, without crashing the program.\n",
        "       \n",
        "        try:\n",
        "        # Code that may raise an exception\n",
        "          x = 10 / 0\n",
        "        except ZeroDivisionError:\n",
        "        # Code that runs if an exception occurs\n",
        "          print(\"You can't divide by zero.\")\n",
        "\n",
        "# 3.  What is the purpose of the finally block in exception handling?\n",
        "\n",
        "  * The finally block is used to define cleanup code that must run no matter what — whether an exception occurred or not.\n",
        "\n",
        "        try:\n",
        "          file = open(\"data.txt\", \"r\")\n",
        "          data = file.read()\n",
        "        except FileNotFoundError:\n",
        "          print(\"File not found.\")\n",
        "        finally:\n",
        "          file.close()  # This will run no matter what\n",
        "          print(\"File is closed.\")\n",
        "\n",
        "# 4.  What is logging in Python?\n",
        "\n",
        "  * Logging in Python refers to the process of tracking events that happen when some software runs. The Python logging module is a standard library used to report status, error, warning, info, and debug messages, rather than using print() statements.\n",
        "\n",
        "# 5. What is the significance of the `__del__` method in Python?\n",
        "\n",
        "  * The `__del__` method in Python is called a destructor. It is a special method that is automatically called when an object is about to be destroyed.\n",
        "\n",
        "# 6.  What is the difference between import and from ... import in Python?\n",
        "\n",
        "  * import Statement :\n",
        "     \n",
        "     * Imports the entire module.\n",
        "\n",
        "     * You access functions or variables with module name prefix (e.g., math.sqrt).\n",
        "\n",
        "     * Keeps namespace clean and organized.\n",
        "  * from ... import Statement :\n",
        "   \n",
        "     * Imports specific parts of a module.\n",
        "\n",
        "     * You can use the imported names directly.\n",
        "\n",
        "     * Can make code shorter, but may pollute the namespace if overused.\n",
        "\n",
        "# 7. How can you handle multiple exceptions in Python?\n",
        "\n",
        "  * In Python, you can handle multiple exceptions using:\n",
        "     \n",
        "     * Multiple except blocks\n",
        "           \n",
        "            Example:\n",
        "\n",
        "                try:\n",
        "                   x = int(input(\"Enter a number: \"))\n",
        "                   result = 10 / x\n",
        "                except ValueError:\n",
        "                   print(\"Invalid input. Please enter a number.\")\n",
        "                except ZeroDivisionError:\n",
        "                   print(\"Cannot divide by zero.\")\n",
        "     \n",
        "     * Single except block for multiple exceptions\n",
        "\n",
        "            Example:\n",
        "\n",
        "                try:\n",
        "                   x = int(input(\"Enter a number: \"))\n",
        "                   result = 10 / x\n",
        "                except (ValueError, ZeroDivisionError) as e:\n",
        "                   print(f\"An error occurred: {e}\")\n",
        "     * Using else and finally\n",
        "\n",
        "            Example:\n",
        "\n",
        "                try:\n",
        "                   x = int(input(\"Enter a number: \"))\n",
        "                   result = 10 / x\n",
        "                except (ValueError, ZeroDivisionError) as e:\n",
        "                   print(f\"Error: {e}\")\n",
        "                else:\n",
        "                   print(f\"Result is {result}\")\n",
        "                finally:\n",
        "                   print(\"Execution complete.\")\n",
        "     * Catch-all with Exception\n",
        "\n",
        "            Example:\n",
        "\n",
        "                try:\n",
        "                 # some risky code\n",
        "                   pass\n",
        "                except Exception as e:\n",
        "                   print(f\"Unexpected error: {e}\")\n",
        "\n",
        "# 8.  What is the purpose of the with statement when handling files in Python?\n",
        "\n",
        "  * The with statement in Python is used to manage resources like files more efficiently and safely. When handling files, its main purpose is to automatically handle opening and closing the file, even if errors occur.\n",
        "\n",
        "     * Automatically closes the file (no need for file.close()).\n",
        "\n",
        "     * Prevents resource leaks.\n",
        "\n",
        "     * Handles exceptions more cleanly.\n",
        "\n",
        "     * Makes the code cleaner and easier to read.\n",
        "\n",
        "# 9. What is the difference between multithreading and multiprocessing?\n",
        "\n",
        "  * Multithreading:\n",
        "\n",
        "     * Runs multiple threads (smaller units of a process) within the same process.\n",
        "\n",
        "     * Threads share memory space.\n",
        "\n",
        "     * Ideal for I/O-bound tasks (e.g., reading files, network requests).\n",
        "\n",
        "     * Limited by GIL (Global Interpreter Lock) in CPython — only one thread executes Python bytecode at a time.\n",
        "  \n",
        "  * Multiprocessing:\n",
        "\n",
        "     * Runs multiple processes, each with its own Python interpreter and memory space.\n",
        "\n",
        "     * Bypasses the GIL → can achieve true parallelism.\n",
        "\n",
        "     * Best for CPU-bound tasks (e.g., image processing, data crunching).   \n",
        "\n",
        "# 10. What are the advantages of using logging in a program?\n",
        "\n",
        "  * Using logging in a Python program offers several key advantages over simply using print() statements. It helps in writing robust, maintainable, and professional-grade code.\n",
        "    \n",
        "     * Helps in Debugging and Troubleshooting\n",
        "     * Supports Multiple Log Levels\n",
        "     * Logs Can Be Saved to Files\n",
        "     * Highly Configurable\n",
        "\n",
        "# 11.  What is memory management in Python?\n",
        "\n",
        "  * Memory management in Python refers to how Python allocates, tracks, and frees memory used by variables, objects, and data structures during program execution. It ensures efficient use of memory and prevents memory leaks or crashes.\n",
        "\n",
        "#12. What are the basic steps involved in exception handling in Python?\n",
        "\n",
        "  * In Python, exception handling allows you to gracefully handle errors that may occur during program execution. Instead of crashing, the program can catch and manage the exception.\n",
        "\n",
        "# 13. Why is memory management important in Python?\n",
        "\n",
        "  * Memory management is important in Python — and in any programming language — because it ensures your program runs efficiently, reliably, and scalably. Without proper memory management, programs can:\n",
        "\n",
        "     * Crash unexpectedly\n",
        "\n",
        "     * Consume excessive resources\n",
        "\n",
        "     * Slow down significantly\n",
        "\n",
        "     * Leak memory (unused memory that is never released)\n",
        "\n",
        "# 14.  What is the role of try and except in exception handling?\n",
        "\n",
        "  * The try and except blocks are the core of exception handling in Python. They allow your program to handle errors gracefully instead of crashing when an error occurs.\n",
        "\n",
        "  * Role of try:\n",
        "\n",
        "     * The try block contains code that might raise an exception.\n",
        "\n",
        "     * Python attempts to execute this code.\n",
        "\n",
        "     * If no exception occurs, the except block is skipped.\n",
        "\n",
        "  * Role of except:\n",
        "    * The except block catches and handles the exception raised in the try block.\n",
        "\n",
        "    * You can catch:\n",
        "\n",
        "       * A specific exception (ZeroDivisionError)\n",
        "\n",
        "       * Multiple exceptions ((ValueError, TypeError))\n",
        "\n",
        "       * Any exception (Exception) — though this should be used carefully.   \n",
        "\n",
        "# 15.  How does Python's garbage collection system work?\n",
        "\n",
        "  * Python's garbage collection system is designed to automatically manage memory by cleaning up objects that are no longer in use. This helps prevent memory leaks and keeps your programs efficient without requiring manual memory management (like in C/C++).\n",
        "\n",
        "# 16.  What is the purpose of the else block in exception handling?\n",
        "\n",
        "  * The else block in Python exception handling is used to define code that should run only if no exception occurs in the try block.\n",
        "\n",
        "     * It separates the \"normal\" logic from the error-handling logic.\n",
        "\n",
        "     * Makes the code more readable and structured.\n",
        "\n",
        "     * Runs only if the try block completes without raising any exceptions.\n",
        "\n",
        "# 17.  What are the common logging levels in Python?\n",
        "\n",
        "  * Python’s logging module defines five common logging levels, each representing the severity of an event. These levels help you filter and categorize log messages in your applications.\n",
        "\n",
        "     * DEBUG\n",
        "     * INFO\n",
        "     * WARNING\n",
        "     * ERROR\n",
        "     * CRITICAL\n",
        "\n",
        "# 18.  What is the difference between os.fork() and multiprocessing in Python?\n",
        "\n",
        "  * os.fork() – Low-Level Process Creation\n",
        "\n",
        "     * Directly creates a child process by duplicating the current process.\n",
        "\n",
        "     * Available only on Unix-like systems (Linux, macOS).\n",
        "\n",
        "     * Returns:\n",
        "\n",
        "       * 0 in the child process\n",
        "\n",
        "       * PID of the child in the parent process\n",
        "  \n",
        "  * multiprocessing Module – High-Level Process Creation\n",
        "  \n",
        "     * Cross-platform (works on Windows, Linux, macOS).\n",
        "\n",
        "     * Designed to bypass the Global Interpreter Lock (GIL).\n",
        "\n",
        "     * Uses separate memory space for each process.\n",
        "\n",
        "     * Supports:\n",
        "\n",
        "       * Process pools\n",
        "\n",
        "       * Queues, Pipes for communication\n",
        "\n",
        "       * Shared memory and synchronization primitives\n",
        "\n",
        "# 19.  What is the importance of closing a file in Python?\n",
        "\n",
        "  * Closing a file in Python is very important for proper resource management. When you open a file (e.g., using open()), the system allocates resources like memory and file descriptors. If you don’t close the file, it can lead to:\n",
        "\n",
        "    *  Releases System Resources\n",
        "    * Flushes Data to Disk\n",
        "    * Prevents File Corruption\n",
        "    * Avoids File Locks and Errors\n",
        "    * Avoids Resource Leaks\n",
        "\n",
        "#20.  What is the difference between file.read() and file.readline() in Python?\n",
        "\n",
        "  * file.read() – Reads the Whole File (or a Specified Number of Characters)\n",
        "\n",
        "     * Reads entire content of the file as a single string.\n",
        "\n",
        "     * You can optionally pass a number to read that many characters (or bytes).\n",
        "\n",
        "  * file.readline() – Reads One Line at a Time\n",
        "\n",
        "     * Reads only the next line from the file (up to the newline character \\n).\n",
        "\n",
        "     * Useful when processing large files line by line.   \n",
        "\n",
        "# 21.  What is the logging module in Python used for?\n",
        "\n",
        "  * The logging module in Python is used to record messages from a program at different severity levels. It provides a flexible system for tracking events that occur during execution — useful for debugging, monitoring, and troubleshooting applications.\n",
        "\n",
        "# 22. What is the os module in Python used for in file handling?\n",
        "\n",
        "  * The os module in Python is a built-in module that provides a way to interact with the operating system, including file and directory handling.\n",
        "    \n",
        "    * Working with Directories\n",
        "    * Checking File/Directory Existence\n",
        "    * File/Directory Manipulation\n",
        "\n",
        "# 23.  What are the challenges associated with memory management in Python?\n",
        "\n",
        "  * Memory management in Python is mostly handled by the Python memory manager and garbage collector, which simplifies development. However, there are still several challenges that developers may face when it comes to efficient and safe memory usage.\n",
        "    \n",
        "    * Memory Leaks\n",
        "    * Lack of Low-Level Control\n",
        "\n",
        "# 24. How do you raise an exception manually in Python?\n",
        "\n",
        "  * In Python, you can raise an exception manually using the raise keyword.\n",
        "   \n",
        "        def divide(a, b):\n",
        "          if b == 0:\n",
        "            raise ZeroDivisionError(\"You can't divide by zero!\")\n",
        "          return a / b\n",
        "\n",
        "           print(divide(10, 0))  # This will raise an exception\n",
        "\n",
        "# 25.  Why is it important to use multithreading in certain applications?\n",
        "\n",
        "  * Multithreading is important in certain applications because it allows multiple tasks to run concurrently, improving the performance, efficiency, and responsiveness of programs—especially when dealing with tasks that are I/O-bound (like file operations, network requests, or user interaction).\n",
        "\n",
        "    * Improved Responsiveness (Especially in GUIs)\n",
        "    * Concurrent I/O Operations\n"
      ],
      "metadata": {
        "id": "-XbgCwuBlZ0Q"
      }
    },
    {
      "cell_type": "markdown",
      "source": [
        "# 1.  How can you open a file for writing in Python and write a string to it?"
      ],
      "metadata": {
        "id": "nvD7nnuriUL7"
      }
    },
    {
      "cell_type": "code",
      "execution_count": 24,
      "metadata": {
        "id": "2jDoRtr6IjGu"
      },
      "outputs": [],
      "source": [
        "with open('file.txt', 'w') as f:\n",
        "    f.write(\"Hii pwskills.\")\n",
        "    f.write(\" I am 20 years old\")"
      ]
    },
    {
      "cell_type": "markdown",
      "source": [
        "# 2.  Write a Python program to read the contents of a file and print each line."
      ],
      "metadata": {
        "id": "UOGNH8zNoD4I"
      }
    },
    {
      "cell_type": "code",
      "source": [
        "with open('file.txt', 'r') as f:\n",
        "    for line in f:\n",
        "        print(line.strip())"
      ],
      "metadata": {
        "colab": {
          "base_uri": "https://localhost:8080/"
        },
        "id": "22H0bSOQoG54",
        "outputId": "395a9784-05f5-4555-db30-358c254564cb"
      },
      "execution_count": 25,
      "outputs": [
        {
          "output_type": "stream",
          "name": "stdout",
          "text": [
            "Hii pwskills. I am 20 years old\n"
          ]
        }
      ]
    },
    {
      "cell_type": "markdown",
      "source": [
        "# 3.  How would you handle a case where the file doesn't exist while trying to open it for reading?"
      ],
      "metadata": {
        "id": "b-4WqSKAoTwY"
      }
    },
    {
      "cell_type": "code",
      "source": [
        "try:\n",
        "    with open('nofile.txt') as f:\n",
        "        print(f.read())\n",
        "except FileNotFoundError:\n",
        "    print(\"File not found.\")"
      ],
      "metadata": {
        "colab": {
          "base_uri": "https://localhost:8080/"
        },
        "id": "fgCIyuXioVjO",
        "outputId": "d5fa2714-058f-4803-d5b7-3f2b2f165635"
      },
      "execution_count": 26,
      "outputs": [
        {
          "output_type": "stream",
          "name": "stdout",
          "text": [
            "File not found.\n"
          ]
        }
      ]
    },
    {
      "cell_type": "markdown",
      "source": [
        "# 4.  Write a Python script that reads from one file and writes its content to another file."
      ],
      "metadata": {
        "id": "stfUsSU5oaPg"
      }
    },
    {
      "cell_type": "code",
      "source": [
        "with open('file.txt') as f, open('newfile.txt', 'w') as nf :\n",
        "    nf.write(f.read())"
      ],
      "metadata": {
        "id": "ZsTZrNIeofRF"
      },
      "execution_count": 27,
      "outputs": []
    },
    {
      "cell_type": "markdown",
      "source": [
        "#5.  How would you catch and handle division by zero error in Python?\n"
      ],
      "metadata": {
        "id": "h8LMadSxofpb"
      }
    },
    {
      "cell_type": "code",
      "source": [
        "try:\n",
        "    result = 10 / 0\n",
        "except ZeroDivisionError:\n",
        "    print(\"Cannot divide by zero.\")"
      ],
      "metadata": {
        "colab": {
          "base_uri": "https://localhost:8080/"
        },
        "id": "o2zPDL_gokU8",
        "outputId": "e038160f-7de7-4f77-a45c-9d698ba037fe"
      },
      "execution_count": 28,
      "outputs": [
        {
          "output_type": "stream",
          "name": "stdout",
          "text": [
            "Cannot divide by zero.\n"
          ]
        }
      ]
    },
    {
      "cell_type": "markdown",
      "source": [
        "# 6.  Write a Python program that logs an error message to a log file when a division by zero exception occurs."
      ],
      "metadata": {
        "id": "_eP2f772okwF"
      }
    },
    {
      "cell_type": "code",
      "source": [
        "import logging\n",
        "logging.basicConfig(filename='app.log', level=logging.ERROR)\n",
        "try:\n",
        "   r = 10/0\n",
        "except ZeroDivisionError as e:\n",
        "    logging.error(\"Division error: %s\", e)\n"
      ],
      "metadata": {
        "colab": {
          "base_uri": "https://localhost:8080/"
        },
        "id": "lZaRZlTAouGz",
        "outputId": "522aab3a-d737-4830-cf99-88c43891ab6d"
      },
      "execution_count": 29,
      "outputs": [
        {
          "output_type": "stream",
          "name": "stderr",
          "text": [
            "ERROR:root:Division error: division by zero\n"
          ]
        }
      ]
    },
    {
      "cell_type": "markdown",
      "source": [
        "# 7. How do you log information at different levels (INFO, ERROR, WARNING) in Python using the logging module?\n"
      ],
      "metadata": {
        "id": "SA32Zna1ouhn"
      }
    },
    {
      "cell_type": "code",
      "source": [
        "import logging\n",
        "logging.basicConfig(filename='test.log', level=logging.INFO)\n",
        "logging.info(\"Info message\")\n",
        "logging.warning(\"Warning message\")\n",
        "logging.error(\"Error message\")\n"
      ],
      "metadata": {
        "colab": {
          "base_uri": "https://localhost:8080/"
        },
        "id": "MDq59xfnoyrQ",
        "outputId": "609f2d70-4276-4a0f-eeae-107ad1fcbeac"
      },
      "execution_count": 30,
      "outputs": [
        {
          "output_type": "stream",
          "name": "stderr",
          "text": [
            "WARNING:root:Warning message\n",
            "ERROR:root:Error message\n"
          ]
        }
      ]
    },
    {
      "cell_type": "markdown",
      "source": [
        "#8. Write a program to handle a file opening error using exception handling."
      ],
      "metadata": {
        "id": "As4Z4KNEozIn"
      }
    },
    {
      "cell_type": "code",
      "source": [
        "try:\n",
        "    with open('text.txt','r') as f:\n",
        "        print(f.read())\n",
        "except FileNotFoundError:\n",
        "    print(\"File not found error.\")"
      ],
      "metadata": {
        "colab": {
          "base_uri": "https://localhost:8080/"
        },
        "id": "q87f62fHo3rU",
        "outputId": "d3b0cb03-08b8-43eb-9e27-1829836bcde1"
      },
      "execution_count": 31,
      "outputs": [
        {
          "output_type": "stream",
          "name": "stdout",
          "text": [
            "File not found error.\n"
          ]
        }
      ]
    },
    {
      "cell_type": "markdown",
      "source": [
        "#9. How can you read a file line by line and store its content in a list in Python?"
      ],
      "metadata": {
        "id": "92mb-JdVo4BY"
      }
    },
    {
      "cell_type": "code",
      "source": [
        "with open('file.txt') as f:\n",
        "    lines = f.readlines()\n",
        "print(lines)"
      ],
      "metadata": {
        "colab": {
          "base_uri": "https://localhost:8080/"
        },
        "id": "hMXJCfGCo9IN",
        "outputId": "ec0918ab-76fa-4d8d-9cf0-ffc3e9650219"
      },
      "execution_count": 32,
      "outputs": [
        {
          "output_type": "stream",
          "name": "stdout",
          "text": [
            "['Hii pwskills. I am 20 years old']\n"
          ]
        }
      ]
    },
    {
      "cell_type": "markdown",
      "source": [
        "#10.  How can you append data to an existing file in Python?"
      ],
      "metadata": {
        "id": "lfLfBsbso9g1"
      }
    },
    {
      "cell_type": "code",
      "source": [
        "with open('file.txt', 'a') as f:\n",
        "    f.write(\"\\n New line\\n\")\n"
      ],
      "metadata": {
        "id": "jBKVi0FGpCzN"
      },
      "execution_count": 50,
      "outputs": []
    },
    {
      "cell_type": "markdown",
      "source": [
        "# 11. Write a Python program that uses a try-except block to handle an error when attempting to access a dictionary key that doesn't exist."
      ],
      "metadata": {
        "id": "a4oLSmjcpDJX"
      }
    },
    {
      "cell_type": "code",
      "source": [
        "try:\n",
        "    val = {\"a\": 1}\n",
        "    print(val['b'])\n",
        "except KeyError:\n",
        "    print(\"Key not found.\")\n"
      ],
      "metadata": {
        "colab": {
          "base_uri": "https://localhost:8080/"
        },
        "id": "u0zFpRJGpKJK",
        "outputId": "cf44b1b7-85c5-4e68-9218-ff313bd4e45e"
      },
      "execution_count": 36,
      "outputs": [
        {
          "output_type": "stream",
          "name": "stdout",
          "text": [
            "Key not found.\n"
          ]
        }
      ]
    },
    {
      "cell_type": "markdown",
      "source": [
        "#12.  Write a program that demonstrates using multiple except blocks to handle different types of exceptions."
      ],
      "metadata": {
        "id": "OoifuAyypKhh"
      }
    },
    {
      "cell_type": "code",
      "source": [
        "try:\n",
        "    x = 10 / 0\n",
        "except ZeroDivisionError:\n",
        "    print(\"Zero division error\")\n",
        "except ValueError:\n",
        "    print(\"Value error\")\n"
      ],
      "metadata": {
        "colab": {
          "base_uri": "https://localhost:8080/"
        },
        "id": "Kk70AeIlpOJ6",
        "outputId": "368bfa40-1d8a-4e23-f161-dbcf982c2fa6"
      },
      "execution_count": 38,
      "outputs": [
        {
          "output_type": "stream",
          "name": "stdout",
          "text": [
            "Zero division error\n"
          ]
        }
      ]
    },
    {
      "cell_type": "markdown",
      "source": [
        "13.  How would you check if a file exists before attempting to read it in Python?"
      ],
      "metadata": {
        "id": "v_ALqZotpOh-"
      }
    },
    {
      "cell_type": "code",
      "source": [
        "import os\n",
        "if os.path.exists('file.txt'):\n",
        "  print(\"Exists\")\n",
        "else:\n",
        "  print('file not exists')"
      ],
      "metadata": {
        "colab": {
          "base_uri": "https://localhost:8080/"
        },
        "id": "bnYzxVp4pSNh",
        "outputId": "71eb6e68-48a8-4e29-9872-5c82850ea782"
      },
      "execution_count": 41,
      "outputs": [
        {
          "output_type": "stream",
          "name": "stdout",
          "text": [
            "Exists\n"
          ]
        }
      ]
    },
    {
      "cell_type": "markdown",
      "source": [
        "#14. Write a program that uses the logging module to log both informational and error messages."
      ],
      "metadata": {
        "id": "zS7-JQ4NpSmX"
      }
    },
    {
      "cell_type": "code",
      "source": [
        "logging.basicConfig(filename='log.txt', level=logging.INFO)\n",
        "logging.info(\"Running script\")\n",
        "logging.error(\"An error occurred\")\n"
      ],
      "metadata": {
        "colab": {
          "base_uri": "https://localhost:8080/"
        },
        "id": "jO6KqmaOpX1H",
        "outputId": "9fa5b685-6624-4cc6-b9f8-2930f4e22d50"
      },
      "execution_count": 47,
      "outputs": [
        {
          "output_type": "stream",
          "name": "stderr",
          "text": [
            "ERROR:root:An error occurred\n"
          ]
        }
      ]
    },
    {
      "cell_type": "markdown",
      "source": [
        "#15.  Write a Python program that prints the content of a file and handles the case when the file is empty."
      ],
      "metadata": {
        "id": "ut1hVIxjpYVV"
      }
    },
    {
      "cell_type": "code",
      "source": [
        "with open('file.txt','r') as f:\n",
        "    content = f.read()\n",
        "    if not content:\n",
        "        print(\"Empty file\")\n",
        "    else:\n",
        "        print(content)\n"
      ],
      "metadata": {
        "colab": {
          "base_uri": "https://localhost:8080/"
        },
        "id": "uW47YQ18pcQF",
        "outputId": "08a4a128-0d69-4c12-cea2-0c4e00973fbd"
      },
      "execution_count": 51,
      "outputs": [
        {
          "output_type": "stream",
          "name": "stdout",
          "text": [
            "Hii pwskills. I am 20 years oldNew line\n",
            "\n",
            " New line\n",
            "\n",
            " New line\n",
            "\n"
          ]
        }
      ]
    },
    {
      "cell_type": "markdown",
      "source": [
        "#16. Demonstrate how to use memory profiling to check the memory usage of a small program."
      ],
      "metadata": {
        "id": "1odakFg7pcp3"
      }
    },
    {
      "cell_type": "code",
      "source": [
        "%load_ext memory_profiler\n",
        "def create_large_list():\n",
        "    a = [i for i in range(1000000)]  # 1 million integers\n",
        "    return a\n",
        "%memit create_large_list()\n"
      ],
      "metadata": {
        "colab": {
          "base_uri": "https://localhost:8080/"
        },
        "id": "Qpw1MbNtpg5Z",
        "outputId": "27d203be-f64b-4ca9-c43e-a416968ad93a"
      },
      "execution_count": 70,
      "outputs": [
        {
          "output_type": "stream",
          "name": "stdout",
          "text": [
            "The memory_profiler extension is already loaded. To reload it, use:\n",
            "  %reload_ext memory_profiler\n",
            "peak memory: 298.72 MiB, increment: 7.43 MiB\n"
          ]
        }
      ]
    },
    {
      "cell_type": "markdown",
      "source": [
        "#17.  Write a Python program to create and write a list of numbers to a file, one number per line."
      ],
      "metadata": {
        "id": "3f3oO5nophTk"
      }
    },
    {
      "cell_type": "code",
      "source": [
        "with open('numbers.txt', 'w') as f:\n",
        "    for i in range(1,10):\n",
        "        f.write(f\"{i}\\n\")"
      ],
      "metadata": {
        "id": "4z71Ckgzpmiq"
      },
      "execution_count": 54,
      "outputs": []
    },
    {
      "cell_type": "markdown",
      "source": [
        "# 18.  How would you implement a basic logging setup that logs to a file with rotation after 1MB?"
      ],
      "metadata": {
        "id": "4pRwYe6FpnVr"
      }
    },
    {
      "cell_type": "code",
      "source": [
        "from logging.handlers import RotatingFileHandler\n",
        "handler = RotatingFileHandler('logfile.log', maxBytes=1048576, backupCount=3)\n",
        "logging.basicConfig(handlers=[handler], level=logging.INFO)\n",
        "logging.info(\"Rotating log\")"
      ],
      "metadata": {
        "id": "ZA6E-yG2pr84"
      },
      "execution_count": 55,
      "outputs": []
    },
    {
      "cell_type": "markdown",
      "source": [
        "# 19. Write a program that handles both IndexError and KeyError using a try-except block."
      ],
      "metadata": {
        "id": "4H76PTCNpsVe"
      }
    },
    {
      "cell_type": "code",
      "source": [
        "try:\n",
        "    lst = [1, 2]\n",
        "    print(lst[5])\n",
        "except IndexError:\n",
        "    print(\"Index error\")\n",
        "try:\n",
        "    d = {\"a\": 1}\n",
        "    print(d[\"b\"])\n",
        "except KeyError:\n",
        "    print(\"Key error\")"
      ],
      "metadata": {
        "colab": {
          "base_uri": "https://localhost:8080/"
        },
        "id": "-_VXvUMZpwXh",
        "outputId": "521e5977-abc9-4b42-ca6c-1d118611547f"
      },
      "execution_count": 56,
      "outputs": [
        {
          "output_type": "stream",
          "name": "stdout",
          "text": [
            "Index error\n",
            "Key error\n"
          ]
        }
      ]
    },
    {
      "cell_type": "markdown",
      "source": [
        "# 20. How would you open a file and read its contents using a context manager in Python?"
      ],
      "metadata": {
        "id": "LamklZjKpwx3"
      }
    },
    {
      "cell_type": "code",
      "source": [
        "with open('file.txt') as f:\n",
        "    print(f.read())"
      ],
      "metadata": {
        "colab": {
          "base_uri": "https://localhost:8080/"
        },
        "id": "Nqx03nBzp0hs",
        "outputId": "305e4e6e-01c5-4ce3-8ef6-56841294d23f"
      },
      "execution_count": 58,
      "outputs": [
        {
          "output_type": "stream",
          "name": "stdout",
          "text": [
            "Hii pwskills. I am 20 years oldNew line\n",
            "\n",
            " New line\n",
            "\n",
            " New line\n",
            "\n"
          ]
        }
      ]
    },
    {
      "cell_type": "markdown",
      "source": [
        "# 21. Write a Python program that reads a file and prints the number of occurrences of a specific word."
      ],
      "metadata": {
        "id": "CMIUcJDUp04X"
      }
    },
    {
      "cell_type": "code",
      "source": [
        "word = 'python'\n",
        "count = 0\n",
        "with open('file.txt','r') as f:\n",
        "    for line in f:\n",
        "        count += line.lower().count(word)\n",
        "print(f\"'{word}' occurred {count} times\")\n"
      ],
      "metadata": {
        "colab": {
          "base_uri": "https://localhost:8080/"
        },
        "id": "lfYG7h4kp6zk",
        "outputId": "18dd4bb4-a4f7-45ce-9760-16c819c05ab8"
      },
      "execution_count": 60,
      "outputs": [
        {
          "output_type": "stream",
          "name": "stdout",
          "text": [
            "'python' occurred 0 times\n"
          ]
        }
      ]
    },
    {
      "cell_type": "markdown",
      "source": [
        "# 22. How can you check if a file is empty before attempting to read its contents?"
      ],
      "metadata": {
        "id": "DR9EPDlQp7WA"
      }
    },
    {
      "cell_type": "code",
      "source": [
        "import os\n",
        "if os.path.getsize('file.txt') == 0:\n",
        "    print(\"Empty\")\n",
        "else:\n",
        "  print('file not empty')"
      ],
      "metadata": {
        "colab": {
          "base_uri": "https://localhost:8080/"
        },
        "id": "zBEliMRCqAbB",
        "outputId": "3528407d-8824-4ecc-aa6f-8d1d0e065a78"
      },
      "execution_count": 62,
      "outputs": [
        {
          "output_type": "stream",
          "name": "stdout",
          "text": [
            "file not empty\n"
          ]
        }
      ]
    },
    {
      "cell_type": "markdown",
      "source": [
        "# 23. Write a Python program that writes to a log file when an error occurs during file handling."
      ],
      "metadata": {
        "id": "4Q_y-4tBqA1z"
      }
    },
    {
      "cell_type": "code",
      "source": [
        "try:\n",
        "    with open('nofile.txt') as f:\n",
        "        print(f.read())\n",
        "except Exception as e:\n",
        "    logging.error(\"File handling error: %s\", e)"
      ],
      "metadata": {
        "colab": {
          "base_uri": "https://localhost:8080/"
        },
        "id": "iuP6D8t4qHYi",
        "outputId": "a5db16a5-012a-4f7d-fb61-87c580403030"
      },
      "execution_count": 63,
      "outputs": [
        {
          "output_type": "stream",
          "name": "stderr",
          "text": [
            "ERROR:root:File handling error: [Errno 2] No such file or directory: 'nofile.txt'\n"
          ]
        }
      ]
    }
  ]
}